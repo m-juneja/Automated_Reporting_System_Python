{
 "cells": [
  {
   "cell_type": "markdown",
   "metadata": {},
   "source": [
    "## Project : Automate the Analysis of Stocks Market Report For each day from Nifty 50 \n",
    "- Step1 : Download the file Manually from Nifty ( data given)\n",
    "- Step2 : Clean the file and Do the univariate Analysis and Bivariate Analysis to understand the data.\n",
    "- Step3 : Build the Data Dictionary and assumptions during the EDA phase\n",
    "- Step4 : Build the Distribution analysis table\n",
    "- step5 : Build a functinality to embed the plots in HTML pages \n",
    "- Step6 : Write the HTML file to the directory in different folder \n",
    "- Step7 : Convert the codes in functions "
   ]
  },
  {
   "cell_type": "code",
   "execution_count": 125,
   "metadata": {},
   "outputs": [],
   "source": [
    "import pandas as pd\n",
    "import numpy as np\n",
    "import seaborn as sns\n",
    "import matplotlib.pyplot as plt\n",
    "from datetime import *"
   ]
  },
  {
   "cell_type": "code",
   "execution_count": 31,
   "metadata": {},
   "outputs": [],
   "source": [
    "import os\n",
    "os.chdir(\"C:\\\\Users\\\\v.bq.kumar\\\\Documents\\\\Tutor\\\\Mehak_Juneja\\\\Ipython_notebooks\\\\Projects\\\\Project_1\")"
   ]
  },
  {
   "cell_type": "code",
   "execution_count": 33,
   "metadata": {},
   "outputs": [],
   "source": [
    "# Read the data from the Data Folder ?\n",
    "df=pd.read_csv(r\"data\\NIFTY_50.csv\")"
   ]
  },
  {
   "cell_type": "code",
   "execution_count": 34,
   "metadata": {},
   "outputs": [
    {
     "data": {
      "text/html": [
       "<div>\n",
       "<style scoped>\n",
       "    .dataframe tbody tr th:only-of-type {\n",
       "        vertical-align: middle;\n",
       "    }\n",
       "\n",
       "    .dataframe tbody tr th {\n",
       "        vertical-align: top;\n",
       "    }\n",
       "\n",
       "    .dataframe thead th {\n",
       "        text-align: right;\n",
       "    }\n",
       "</style>\n",
       "<table border=\"1\" class=\"dataframe\">\n",
       "  <thead>\n",
       "    <tr style=\"text-align: right;\">\n",
       "      <th></th>\n",
       "      <th>Date</th>\n",
       "      <th>Open</th>\n",
       "      <th>High</th>\n",
       "      <th>Low</th>\n",
       "      <th>Close</th>\n",
       "      <th>Volume</th>\n",
       "      <th>Turnover</th>\n",
       "      <th>P/E</th>\n",
       "      <th>P/B</th>\n",
       "      <th>Div Yield</th>\n",
       "    </tr>\n",
       "  </thead>\n",
       "  <tbody>\n",
       "    <tr>\n",
       "      <th>0</th>\n",
       "      <td>2000-01-03</td>\n",
       "      <td>1482.15</td>\n",
       "      <td>1592.90</td>\n",
       "      <td>1482.15</td>\n",
       "      <td>1592.2</td>\n",
       "      <td>25358322</td>\n",
       "      <td>8.841500e+09</td>\n",
       "      <td>25.91</td>\n",
       "      <td>4.63</td>\n",
       "      <td>0.95</td>\n",
       "    </tr>\n",
       "    <tr>\n",
       "      <th>1</th>\n",
       "      <td>2000-01-04</td>\n",
       "      <td>1594.40</td>\n",
       "      <td>1641.95</td>\n",
       "      <td>1594.40</td>\n",
       "      <td>1638.7</td>\n",
       "      <td>38787872</td>\n",
       "      <td>1.973690e+10</td>\n",
       "      <td>26.67</td>\n",
       "      <td>4.76</td>\n",
       "      <td>0.92</td>\n",
       "    </tr>\n",
       "    <tr>\n",
       "      <th>2</th>\n",
       "      <td>2000-01-05</td>\n",
       "      <td>1634.55</td>\n",
       "      <td>1635.50</td>\n",
       "      <td>1555.05</td>\n",
       "      <td>1595.8</td>\n",
       "      <td>62153431</td>\n",
       "      <td>3.084790e+10</td>\n",
       "      <td>25.97</td>\n",
       "      <td>4.64</td>\n",
       "      <td>0.95</td>\n",
       "    </tr>\n",
       "    <tr>\n",
       "      <th>3</th>\n",
       "      <td>2000-01-06</td>\n",
       "      <td>1595.80</td>\n",
       "      <td>1639.00</td>\n",
       "      <td>1595.80</td>\n",
       "      <td>1617.6</td>\n",
       "      <td>51272875</td>\n",
       "      <td>2.531180e+10</td>\n",
       "      <td>26.32</td>\n",
       "      <td>4.70</td>\n",
       "      <td>0.94</td>\n",
       "    </tr>\n",
       "    <tr>\n",
       "      <th>4</th>\n",
       "      <td>2000-01-07</td>\n",
       "      <td>1616.60</td>\n",
       "      <td>1628.25</td>\n",
       "      <td>1597.20</td>\n",
       "      <td>1613.3</td>\n",
       "      <td>54315945</td>\n",
       "      <td>1.914630e+10</td>\n",
       "      <td>26.25</td>\n",
       "      <td>4.69</td>\n",
       "      <td>0.94</td>\n",
       "    </tr>\n",
       "  </tbody>\n",
       "</table>\n",
       "</div>"
      ],
      "text/plain": [
       "         Date     Open     High      Low   Close    Volume      Turnover  \\\n",
       "0  2000-01-03  1482.15  1592.90  1482.15  1592.2  25358322  8.841500e+09   \n",
       "1  2000-01-04  1594.40  1641.95  1594.40  1638.7  38787872  1.973690e+10   \n",
       "2  2000-01-05  1634.55  1635.50  1555.05  1595.8  62153431  3.084790e+10   \n",
       "3  2000-01-06  1595.80  1639.00  1595.80  1617.6  51272875  2.531180e+10   \n",
       "4  2000-01-07  1616.60  1628.25  1597.20  1613.3  54315945  1.914630e+10   \n",
       "\n",
       "     P/E   P/B  Div Yield  \n",
       "0  25.91  4.63       0.95  \n",
       "1  26.67  4.76       0.92  \n",
       "2  25.97  4.64       0.95  \n",
       "3  26.32  4.70       0.94  \n",
       "4  26.25  4.69       0.94  "
      ]
     },
     "execution_count": 34,
     "metadata": {},
     "output_type": "execute_result"
    }
   ],
   "source": [
    "df.head()"
   ]
  },
  {
   "cell_type": "code",
   "execution_count": 43,
   "metadata": {},
   "outputs": [
    {
     "name": "stdout",
     "output_type": "stream",
     "text": [
      "<class 'pandas.core.frame.DataFrame'>\n",
      "RangeIndex: 5208 entries, 0 to 5207\n",
      "Data columns (total 10 columns):\n",
      " #   Column     Non-Null Count  Dtype  \n",
      "---  ------     --------------  -----  \n",
      " 0   Date       5208 non-null   object \n",
      " 1   Open       5208 non-null   float64\n",
      " 2   High       5208 non-null   float64\n",
      " 3   Low        5208 non-null   float64\n",
      " 4   Close      5208 non-null   float64\n",
      " 5   Volume     5208 non-null   int64  \n",
      " 6   Turnover   5208 non-null   float64\n",
      " 7   P/E        5208 non-null   float64\n",
      " 8   P/B        5208 non-null   float64\n",
      " 9   Div Yield  5208 non-null   float64\n",
      "dtypes: float64(8), int64(1), object(1)\n",
      "memory usage: 407.0+ KB\n"
     ]
    }
   ],
   "source": [
    "df.info()"
   ]
  },
  {
   "cell_type": "code",
   "execution_count": 46,
   "metadata": {},
   "outputs": [],
   "source": [
    "df['Date']=pd.to_datetime(df['Date'])\n",
    "df['Month'] = df['Date'].dt.month\n",
    "df['Year'] = df['Date'].dt.year\n",
    "df['Month-str'] = df['Date'].dt.strftime('%b')\n",
    "df['Month-str-full'] = df['Date'].dt.strftime('%B')"
   ]
  },
  {
   "cell_type": "code",
   "execution_count": 47,
   "metadata": {},
   "outputs": [
    {
     "data": {
      "text/html": [
       "<div>\n",
       "<style scoped>\n",
       "    .dataframe tbody tr th:only-of-type {\n",
       "        vertical-align: middle;\n",
       "    }\n",
       "\n",
       "    .dataframe tbody tr th {\n",
       "        vertical-align: top;\n",
       "    }\n",
       "\n",
       "    .dataframe thead th {\n",
       "        text-align: right;\n",
       "    }\n",
       "</style>\n",
       "<table border=\"1\" class=\"dataframe\">\n",
       "  <thead>\n",
       "    <tr style=\"text-align: right;\">\n",
       "      <th></th>\n",
       "      <th>Date</th>\n",
       "      <th>Open</th>\n",
       "      <th>High</th>\n",
       "      <th>Low</th>\n",
       "      <th>Close</th>\n",
       "      <th>Volume</th>\n",
       "      <th>Turnover</th>\n",
       "      <th>P/E</th>\n",
       "      <th>P/B</th>\n",
       "      <th>Div Yield</th>\n",
       "      <th>Month</th>\n",
       "      <th>Year</th>\n",
       "      <th>Month-str</th>\n",
       "      <th>Month-str-full</th>\n",
       "    </tr>\n",
       "  </thead>\n",
       "  <tbody>\n",
       "    <tr>\n",
       "      <th>0</th>\n",
       "      <td>2000-01-03</td>\n",
       "      <td>1482.15</td>\n",
       "      <td>1592.90</td>\n",
       "      <td>1482.15</td>\n",
       "      <td>1592.2</td>\n",
       "      <td>25358322</td>\n",
       "      <td>8.841500e+09</td>\n",
       "      <td>25.91</td>\n",
       "      <td>4.63</td>\n",
       "      <td>0.95</td>\n",
       "      <td>1</td>\n",
       "      <td>2000</td>\n",
       "      <td>Jan</td>\n",
       "      <td>January</td>\n",
       "    </tr>\n",
       "    <tr>\n",
       "      <th>1</th>\n",
       "      <td>2000-01-04</td>\n",
       "      <td>1594.40</td>\n",
       "      <td>1641.95</td>\n",
       "      <td>1594.40</td>\n",
       "      <td>1638.7</td>\n",
       "      <td>38787872</td>\n",
       "      <td>1.973690e+10</td>\n",
       "      <td>26.67</td>\n",
       "      <td>4.76</td>\n",
       "      <td>0.92</td>\n",
       "      <td>1</td>\n",
       "      <td>2000</td>\n",
       "      <td>Jan</td>\n",
       "      <td>January</td>\n",
       "    </tr>\n",
       "  </tbody>\n",
       "</table>\n",
       "</div>"
      ],
      "text/plain": [
       "        Date     Open     High      Low   Close    Volume      Turnover  \\\n",
       "0 2000-01-03  1482.15  1592.90  1482.15  1592.2  25358322  8.841500e+09   \n",
       "1 2000-01-04  1594.40  1641.95  1594.40  1638.7  38787872  1.973690e+10   \n",
       "\n",
       "     P/E   P/B  Div Yield  Month  Year Month-str Month-str-full  \n",
       "0  25.91  4.63       0.95      1  2000       Jan        January  \n",
       "1  26.67  4.76       0.92      1  2000       Jan        January  "
      ]
     },
     "execution_count": 47,
     "metadata": {},
     "output_type": "execute_result"
    }
   ],
   "source": [
    "df.head(2)"
   ]
  },
  {
   "cell_type": "markdown",
   "metadata": {},
   "source": [
    "# Data Dictionary :\n",
    "- The Open and Close columns indicate the opening and closing price of the stocks on a particular day.\n",
    "- The High and Low columns provide the highest and the lowest price for the stock on a particular day, respectively.\n",
    "- The Volume column tells us the total volume of stocks traded on a particular day.\n",
    "- The Turnover column refers to the total value of stocks traded during a specific period of time. The time period may be annually, quarterly, monthly or daily\n",
    "- P/E also called as the price-earnings ratio relates a company's share price to its earnings per share.\n",
    "- P/B also called as Price-To-Book ratio measures the market's valuation of a company relative to its book value.\n",
    "- Div Yield or the dividend yield is the amount of money a company pays shareholders (over the course of a year) for owning a share of its stock divided by its current stock price—displayed as a percentage."
   ]
  },
  {
   "cell_type": "markdown",
   "metadata": {},
   "source": [
    "# Health check of Dataset\n",
    "- Step 1 : Perform the Missing value Analysis :\n",
    "    - Find the missing values ( if any in any column ) ?\n",
    "    - Perform missing value imputation \n",
    "    \n",
    "- Step 2 : Check the distribution of features in the dataset\n",
    "    - Plot the distribution for the features. \n",
    "    - Calculate the mean , median , mode , standard deviation , variance of each column in a table\n",
    "    - Plot the correlation plots of all the features and note down the observations \n",
    "\n",
    "- Step 3 : Feature Engineering to create more relevant features\n",
    "    - Create Month , year , quarter columns using date column\n",
    "    \n",
    "    "
   ]
  },
  {
   "cell_type": "code",
   "execution_count": 126,
   "metadata": {},
   "outputs": [
    {
     "data": {
      "text/plain": [
       "Date              0\n",
       "Open              0\n",
       "High              0\n",
       "Low               0\n",
       "Close             0\n",
       "Volume            0\n",
       "Turnover          0\n",
       "P/E               0\n",
       "P/B               0\n",
       "Div Yield         0\n",
       "Month             0\n",
       "Year              0\n",
       "Month-str         0\n",
       "Month-str-full    0\n",
       "dtype: int64"
      ]
     },
     "execution_count": 126,
     "metadata": {},
     "output_type": "execute_result"
    }
   ],
   "source": [
    "df.isnull().sum()"
   ]
  },
  {
   "cell_type": "code",
   "execution_count": 39,
   "metadata": {},
   "outputs": [
    {
     "data": {
      "text/plain": [
       "<matplotlib.axes._subplots.AxesSubplot at 0x1402e0a9a90>"
      ]
     },
     "execution_count": 39,
     "metadata": {},
     "output_type": "execute_result"
    },
    {
     "data": {
      "image/png": "[encoded data removed]",
      "text/plain": [
       "<Figure size 432x288 with 2 Axes>"
      ]
     },
     "metadata": {
      "needs_background": "light"
     },
     "output_type": "display_data"
    }
   ],
   "source": [
    "sns.heatmap(df.isnull(),cmap='viridis')"
   ]
  },
  {
   "cell_type": "code",
   "execution_count": 127,
   "metadata": {},
   "outputs": [
    {
     "data": {
      "text/plain": [
       "(0, 846892615990.5941)"
      ]
     },
     "execution_count": 127,
     "metadata": {},
     "output_type": "execute_result"
    },
    {
     "data": {
      "image/png": "[encoded data removed]",
      "text/plain": [
       "<Figure size 432x288 with 1 Axes>"
      ]
     },
     "metadata": {
      "needs_background": "light"
     },
     "output_type": "display_data"
    }
   ],
   "source": [
    "sns.regplot(x='Volume',y='Turnover',data=df,color='red')\n",
    "plt.ylim(0,)"
   ]
  },
  {
   "cell_type": "code",
   "execution_count": 128,
   "metadata": {},
   "outputs": [
    {
     "name": "stdout",
     "output_type": "stream",
     "text": [
      "List of dropped columns:\n",
      "There are no Columns having missing values greater than ==>  0.3\n",
      "\n",
      "\n"
     ]
    }
   ],
   "source": [
    "# To keep the control , how much proportion of missing values is permissible for our future processing ?\n",
    "limit=0.3\n",
    "# df.count() does not include NaN values\n",
    "df2 = df[[column for column in df if df[column].count() / len(df) >= limit]]\n",
    "print(\"List of dropped columns:\")\n",
    "if len(df.columns)==len(df2.columns):\n",
    "    print(\"There are no Columns having missing values greater than ==> \",limit)\n",
    "else:\n",
    "    for c in df.columns:\n",
    "        if c not in df2.columns:\n",
    "            print(c, end=\", \")\n",
    "print('\\n')"
   ]
  },
  {
   "cell_type": "code",
   "execution_count": 135,
   "metadata": {},
   "outputs": [
    {
     "data": {
      "image/png": "[encoded data removed]",
      "text/plain": [
       "<Figure size 1080x432 with 1 Axes>"
      ]
     },
     "metadata": {
      "needs_background": "light"
     },
     "output_type": "display_data"
    }
   ],
   "source": [
    "plt.figure(figsize=(15,6))\n",
    "plt.fill_between(x=df['Year'],y1=df['Turnover'], color=\"skyblue\", alpha=0.5)\n",
    "plt.title(\"Turnover over years\",fontsize=20)\n",
    "plt.savefig(\"output/plot8.png\")\n",
    "plt.show()"
   ]
  },
  {
   "cell_type": "code",
   "execution_count": 73,
   "metadata": {},
   "outputs": [
    {
     "data": {
      "image/png": "[encoded data removed]",
      "text/plain": [
       "<Figure size 1080x432 with 1 Axes>"
      ]
     },
     "metadata": {
      "needs_background": "light"
     },
     "output_type": "display_data"
    }
   ],
   "source": [
    "plt.figure(figsize=(15,6))\n",
    "s1=sns.barplot(x='Year',y='Turnover',data=df)\n",
    "plt.title(\"Turnover over years\",fontsize=20)\n",
    "s1.figure.savefig(\"output/plot1.png\")\n",
    "plt.show()"
   ]
  },
  {
   "cell_type": "code",
   "execution_count": 75,
   "metadata": {},
   "outputs": [
    {
     "data": {
      "image/png": "[encoded data removed]",
      "text/plain": [
       "<Figure size 1080x432 with 1 Axes>"
      ]
     },
     "metadata": {
      "needs_background": "light"
     },
     "output_type": "display_data"
    }
   ],
   "source": [
    "plt.figure(figsize=(15,6))\n",
    "s1=sns.barplot(x='Year', y='Volume', data=df)\n",
    "plt.title(\"Volume over years\",fontsize=20)\n",
    "s1.figure.savefig(\"output/plot2.png\")\n",
    "plt.show()"
   ]
  },
  {
   "cell_type": "code",
   "execution_count": 76,
   "metadata": {},
   "outputs": [
    {
     "data": {
      "image/png": "[encoded data removed]",
      "text/plain": [
       "<Figure size 1080x432 with 1 Axes>"
      ]
     },
     "metadata": {
      "needs_background": "light"
     },
     "output_type": "display_data"
    }
   ],
   "source": [
    "plt.figure(figsize=(15,6))\n",
    "s1=sns.barplot(x='Year', y='Div Yield', data=df)\n",
    "plt.title(\"Div Yield over years\",fontsize=20)\n",
    "s1.figure.savefig(\"output/plot3.png\")\n",
    "plt.show()"
   ]
  },
  {
   "cell_type": "code",
   "execution_count": 77,
   "metadata": {
    "scrolled": false
   },
   "outputs": [
    {
     "data": {
      "image/png": "[encoded data removed]",
      "text/plain": [
       "<Figure size 1080x432 with 1 Axes>"
      ]
     },
     "metadata": {
      "needs_background": "light"
     },
     "output_type": "display_data"
    }
   ],
   "source": [
    "plt.figure(figsize=(15,6))\n",
    "s1=sns.barplot(x='Year', y='P/E', data=df)\n",
    "plt.title(\"P/E over years\",fontsize=20)\n",
    "s1.figure.savefig(\"output/plot4.png\")\n",
    "plt.show()"
   ]
  },
  {
   "cell_type": "markdown",
   "metadata": {},
   "source": [
    "# What years had the highest 5 peaks? "
   ]
  },
  {
   "cell_type": "code",
   "execution_count": 99,
   "metadata": {},
   "outputs": [
    {
     "data": {
      "image/png": "[encoded data removed]",
      "text/plain": [
       "<Figure size 720x504 with 1 Axes>"
      ]
     },
     "metadata": {},
     "output_type": "display_data"
    }
   ],
   "source": [
    "peaks = df.loc[:, ['Year','High']]\n",
    "peaks['max_high'] = peaks.groupby('Year')['High'].transform('max')\n",
    "peaks.drop('High', axis=1, inplace=True)\n",
    "peaks = peaks.drop_duplicates()\n",
    "peaks = peaks.sort_values('max_high', ascending=False)\n",
    "peaks = peaks.head()\n",
    "\n",
    "fig = plt.figure(figsize=(10,7))\n",
    "plt.pie(peaks['max_high'], labels=peaks['Year'], autopct='%1.1f%%', shadow=True)\n",
    "centre_circle = plt.Circle((0,0),0.45,color='black', fc='white',linewidth=1.25)\n",
    "fig = plt.gcf()\n",
    "fig.gca().add_artist(centre_circle)\n",
    "plt.axis('equal')\n",
    "plt.title(\"What years had the highest 5 peaks\",fontsize=20)\n",
    "plt.savefig(\"output/plot5.png\")\n",
    "plt.show()"
   ]
  },
  {
   "cell_type": "code",
   "execution_count": 79,
   "metadata": {},
   "outputs": [
    {
     "data": {
      "text/html": [
       "<div>\n",
       "<style scoped>\n",
       "    .dataframe tbody tr th:only-of-type {\n",
       "        vertical-align: middle;\n",
       "    }\n",
       "\n",
       "    .dataframe tbody tr th {\n",
       "        vertical-align: top;\n",
       "    }\n",
       "\n",
       "    .dataframe thead th {\n",
       "        text-align: right;\n",
       "    }\n",
       "</style>\n",
       "<table border=\"1\" class=\"dataframe\">\n",
       "  <thead>\n",
       "    <tr style=\"text-align: right;\">\n",
       "      <th></th>\n",
       "      <th>Date</th>\n",
       "      <th>Open</th>\n",
       "      <th>High</th>\n",
       "      <th>Low</th>\n",
       "      <th>Close</th>\n",
       "      <th>Volume</th>\n",
       "      <th>Turnover</th>\n",
       "      <th>P/E</th>\n",
       "      <th>P/B</th>\n",
       "      <th>Div Yield</th>\n",
       "      <th>Month</th>\n",
       "      <th>Year</th>\n",
       "      <th>Month-str</th>\n",
       "      <th>Month-str-full</th>\n",
       "    </tr>\n",
       "  </thead>\n",
       "  <tbody>\n",
       "    <tr>\n",
       "      <th>0</th>\n",
       "      <td>2000-01-03</td>\n",
       "      <td>1482.15</td>\n",
       "      <td>1592.90</td>\n",
       "      <td>1482.15</td>\n",
       "      <td>1592.2</td>\n",
       "      <td>25358322</td>\n",
       "      <td>8.841500e+09</td>\n",
       "      <td>25.91</td>\n",
       "      <td>4.63</td>\n",
       "      <td>0.95</td>\n",
       "      <td>1</td>\n",
       "      <td>2000</td>\n",
       "      <td>Jan</td>\n",
       "      <td>January</td>\n",
       "    </tr>\n",
       "    <tr>\n",
       "      <th>1</th>\n",
       "      <td>2000-01-04</td>\n",
       "      <td>1594.40</td>\n",
       "      <td>1641.95</td>\n",
       "      <td>1594.40</td>\n",
       "      <td>1638.7</td>\n",
       "      <td>38787872</td>\n",
       "      <td>1.973690e+10</td>\n",
       "      <td>26.67</td>\n",
       "      <td>4.76</td>\n",
       "      <td>0.92</td>\n",
       "      <td>1</td>\n",
       "      <td>2000</td>\n",
       "      <td>Jan</td>\n",
       "      <td>January</td>\n",
       "    </tr>\n",
       "  </tbody>\n",
       "</table>\n",
       "</div>"
      ],
      "text/plain": [
       "        Date     Open     High      Low   Close    Volume      Turnover  \\\n",
       "0 2000-01-03  1482.15  1592.90  1482.15  1592.2  25358322  8.841500e+09   \n",
       "1 2000-01-04  1594.40  1641.95  1594.40  1638.7  38787872  1.973690e+10   \n",
       "\n",
       "     P/E   P/B  Div Yield  Month  Year Month-str Month-str-full  \n",
       "0  25.91  4.63       0.95      1  2000       Jan        January  \n",
       "1  26.67  4.76       0.92      1  2000       Jan        January  "
      ]
     },
     "execution_count": 79,
     "metadata": {},
     "output_type": "execute_result"
    }
   ],
   "source": [
    "df.head(2)"
   ]
  },
  {
   "cell_type": "code",
   "execution_count": 110,
   "metadata": {},
   "outputs": [],
   "source": [
    "pd.set_option(\"precision\", 3)\n",
    "pd.set_option('display.float_format', lambda x: '%.3f' % x)"
   ]
  },
  {
   "cell_type": "code",
   "execution_count": 111,
   "metadata": {},
   "outputs": [
    {
     "data": {
      "text/html": [
       "<div>\n",
       "<style scoped>\n",
       "    .dataframe tbody tr th:only-of-type {\n",
       "        vertical-align: middle;\n",
       "    }\n",
       "\n",
       "    .dataframe tbody tr th {\n",
       "        vertical-align: top;\n",
       "    }\n",
       "\n",
       "    .dataframe thead tr th {\n",
       "        text-align: left;\n",
       "    }\n",
       "\n",
       "    .dataframe thead tr:last-of-type th {\n",
       "        text-align: right;\n",
       "    }\n",
       "</style>\n",
       "<table border=\"1\" class=\"dataframe\">\n",
       "  <thead>\n",
       "    <tr>\n",
       "      <th></th>\n",
       "      <th colspan=\"3\" halign=\"left\">Volume</th>\n",
       "      <th colspan=\"3\" halign=\"left\">Turnover</th>\n",
       "      <th colspan=\"3\" halign=\"left\">High</th>\n",
       "    </tr>\n",
       "    <tr>\n",
       "      <th></th>\n",
       "      <th>mean</th>\n",
       "      <th>min</th>\n",
       "      <th>max</th>\n",
       "      <th>mean</th>\n",
       "      <th>min</th>\n",
       "      <th>max</th>\n",
       "      <th>mean</th>\n",
       "      <th>min</th>\n",
       "      <th>max</th>\n",
       "    </tr>\n",
       "    <tr>\n",
       "      <th>Year</th>\n",
       "      <th></th>\n",
       "      <th></th>\n",
       "      <th></th>\n",
       "      <th></th>\n",
       "      <th></th>\n",
       "      <th></th>\n",
       "      <th></th>\n",
       "      <th></th>\n",
       "      <th></th>\n",
       "    </tr>\n",
       "  </thead>\n",
       "  <tbody>\n",
       "    <tr>\n",
       "      <th>2000</th>\n",
       "      <td>45244467.028</td>\n",
       "      <td>14447058</td>\n",
       "      <td>107922822</td>\n",
       "      <td>21057677200.000</td>\n",
       "      <td>5116600000.000</td>\n",
       "      <td>37409500000.000</td>\n",
       "      <td>1440.324</td>\n",
       "      <td>1155.350</td>\n",
       "      <td>1818.150</td>\n",
       "    </tr>\n",
       "    <tr>\n",
       "      <th>2001</th>\n",
       "      <td>53882636.641</td>\n",
       "      <td>1394931</td>\n",
       "      <td>150441998</td>\n",
       "      <td>15014450000.000</td>\n",
       "      <td>401200000.000</td>\n",
       "      <td>46158700000.000</td>\n",
       "      <td>1134.478</td>\n",
       "      <td>877.000</td>\n",
       "      <td>1422.950</td>\n",
       "    </tr>\n",
       "    <tr>\n",
       "      <th>2002</th>\n",
       "      <td>50630234.211</td>\n",
       "      <td>20401035</td>\n",
       "      <td>104258064</td>\n",
       "      <td>14480847808.765</td>\n",
       "      <td>5563100000.000</td>\n",
       "      <td>31288600000.000</td>\n",
       "      <td>1064.767</td>\n",
       "      <td>934.900</td>\n",
       "      <td>1205.950</td>\n",
       "    </tr>\n",
       "    <tr>\n",
       "      <th>2003</th>\n",
       "      <td>91805504.898</td>\n",
       "      <td>19834836</td>\n",
       "      <td>233905141</td>\n",
       "      <td>22968947244.094</td>\n",
       "      <td>6329900000.000</td>\n",
       "      <td>51006100000.000</td>\n",
       "      <td>1244.101</td>\n",
       "      <td>931.050</td>\n",
       "      <td>1914.400</td>\n",
       "    </tr>\n",
       "    <tr>\n",
       "      <th>2004</th>\n",
       "      <td>106598310.524</td>\n",
       "      <td>21421309</td>\n",
       "      <td>204439801</td>\n",
       "      <td>31959339370.079</td>\n",
       "      <td>4760900000.000</td>\n",
       "      <td>54092500000.000</td>\n",
       "      <td>1774.006</td>\n",
       "      <td>1474.300</td>\n",
       "      <td>2088.450</td>\n",
       "    </tr>\n",
       "    <tr>\n",
       "      <th>2005</th>\n",
       "      <td>70260452.697</td>\n",
       "      <td>18746555</td>\n",
       "      <td>137984563</td>\n",
       "      <td>27471997609.562</td>\n",
       "      <td>6657500000.000</td>\n",
       "      <td>73896200000.000</td>\n",
       "      <td>2286.715</td>\n",
       "      <td>1925.600</td>\n",
       "      <td>2857.000</td>\n",
       "    </tr>\n",
       "    <tr>\n",
       "      <th>2006</th>\n",
       "      <td>82008456.268</td>\n",
       "      <td>10531676</td>\n",
       "      <td>191025581</td>\n",
       "      <td>39892805600.000</td>\n",
       "      <td>4332900000.000</td>\n",
       "      <td>120555900000.000</td>\n",
       "      <td>3388.747</td>\n",
       "      <td>2767.750</td>\n",
       "      <td>4046.850</td>\n",
       "    </tr>\n",
       "    <tr>\n",
       "      <th>2007</th>\n",
       "      <td>98084045.273</td>\n",
       "      <td>21389583</td>\n",
       "      <td>301117809</td>\n",
       "      <td>53974475502.008</td>\n",
       "      <td>12213400000.000</td>\n",
       "      <td>154596800000.000</td>\n",
       "      <td>4616.731</td>\n",
       "      <td>3679.150</td>\n",
       "      <td>6185.400</td>\n",
       "    </tr>\n",
       "    <tr>\n",
       "      <th>2008</th>\n",
       "      <td>167597027.650</td>\n",
       "      <td>51206468</td>\n",
       "      <td>386314136</td>\n",
       "      <td>69730695934.959</td>\n",
       "      <td>10382400000.000</td>\n",
       "      <td>125890900000.000</td>\n",
       "      <td>4417.680</td>\n",
       "      <td>2585.300</td>\n",
       "      <td>6357.100</td>\n",
       "    </tr>\n",
       "    <tr>\n",
       "      <th>2009</th>\n",
       "      <td>281703338.395</td>\n",
       "      <td>2768292</td>\n",
       "      <td>686898999</td>\n",
       "      <td>85823680658.436</td>\n",
       "      <td>1139900000.000</td>\n",
       "      <td>260022600000.000</td>\n",
       "      <td>4161.107</td>\n",
       "      <td>2621.250</td>\n",
       "      <td>5221.850</td>\n",
       "    </tr>\n",
       "    <tr>\n",
       "      <th>2010</th>\n",
       "      <td>163992598.476</td>\n",
       "      <td>22091127</td>\n",
       "      <td>371673464</td>\n",
       "      <td>66065911904.762</td>\n",
       "      <td>6431100000.000</td>\n",
       "      <td>122284500000.000</td>\n",
       "      <td>5498.632</td>\n",
       "      <td>4768.150</td>\n",
       "      <td>6338.500</td>\n",
       "    </tr>\n",
       "    <tr>\n",
       "      <th>2011</th>\n",
       "      <td>143896341.142</td>\n",
       "      <td>27496887</td>\n",
       "      <td>317245759</td>\n",
       "      <td>59985426315.789</td>\n",
       "      <td>10594600000.000</td>\n",
       "      <td>117412500000.000</td>\n",
       "      <td>5384.035</td>\n",
       "      <td>4623.150</td>\n",
       "      <td>6181.050</td>\n",
       "    </tr>\n",
       "    <tr>\n",
       "      <th>2012</th>\n",
       "      <td>153069099.980</td>\n",
       "      <td>6555703</td>\n",
       "      <td>364660634</td>\n",
       "      <td>58856179681.275</td>\n",
       "      <td>2978900000.000</td>\n",
       "      <td>173567600000.000</td>\n",
       "      <td>5374.330</td>\n",
       "      <td>4645.950</td>\n",
       "      <td>5965.150</td>\n",
       "    </tr>\n",
       "    <tr>\n",
       "      <th>2013</th>\n",
       "      <td>165444272.228</td>\n",
       "      <td>7991165</td>\n",
       "      <td>437039204</td>\n",
       "      <td>63094241200.000</td>\n",
       "      <td>3557400000.000</td>\n",
       "      <td>129642000000.000</td>\n",
       "      <td>5954.561</td>\n",
       "      <td>5317.700</td>\n",
       "      <td>6415.250</td>\n",
       "    </tr>\n",
       "    <tr>\n",
       "      <th>2014</th>\n",
       "      <td>154763903.488</td>\n",
       "      <td>9774392</td>\n",
       "      <td>393156741</td>\n",
       "      <td>74012970491.803</td>\n",
       "      <td>3736600000.000</td>\n",
       "      <td>210570700000.000</td>\n",
       "      <td>7397.670</td>\n",
       "      <td>6017.800</td>\n",
       "      <td>8626.950</td>\n",
       "    </tr>\n",
       "    <tr>\n",
       "      <th>2015</th>\n",
       "      <td>167678446.698</td>\n",
       "      <td>22380435</td>\n",
       "      <td>418959074</td>\n",
       "      <td>80212116532.258</td>\n",
       "      <td>11234400000.000</td>\n",
       "      <td>328734500000.000</td>\n",
       "      <td>8337.654</td>\n",
       "      <td>7663.950</td>\n",
       "      <td>9119.200</td>\n",
       "    </tr>\n",
       "    <tr>\n",
       "      <th>2016</th>\n",
       "      <td>200794425.526</td>\n",
       "      <td>16610872</td>\n",
       "      <td>487969285</td>\n",
       "      <td>85551172064.777</td>\n",
       "      <td>8058900000.000</td>\n",
       "      <td>225342900000.000</td>\n",
       "      <td>8136.359</td>\n",
       "      <td>7034.200</td>\n",
       "      <td>8968.700</td>\n",
       "    </tr>\n",
       "    <tr>\n",
       "      <th>2017</th>\n",
       "      <td>204210548.270</td>\n",
       "      <td>31086379</td>\n",
       "      <td>612620774</td>\n",
       "      <td>102796230645.161</td>\n",
       "      <td>16851600000.000</td>\n",
       "      <td>259225100000.000</td>\n",
       "      <td>9625.885</td>\n",
       "      <td>8212.000</td>\n",
       "      <td>10552.400</td>\n",
       "    </tr>\n",
       "    <tr>\n",
       "      <th>2018</th>\n",
       "      <td>274693425.659</td>\n",
       "      <td>32194181</td>\n",
       "      <td>741153209</td>\n",
       "      <td>143867330894.309</td>\n",
       "      <td>15340800000.000</td>\n",
       "      <td>351311900000.000</td>\n",
       "      <td>10801.753</td>\n",
       "      <td>10027.700</td>\n",
       "      <td>11760.200</td>\n",
       "    </tr>\n",
       "    <tr>\n",
       "      <th>2019</th>\n",
       "      <td>483281915.596</td>\n",
       "      <td>159404542</td>\n",
       "      <td>1414837250</td>\n",
       "      <td>190171827346.939</td>\n",
       "      <td>35482100000.000</td>\n",
       "      <td>540815300000.000</td>\n",
       "      <td>11494.463</td>\n",
       "      <td>10690.350</td>\n",
       "      <td>12293.900</td>\n",
       "    </tr>\n",
       "    <tr>\n",
       "      <th>2020</th>\n",
       "      <td>671540589.261</td>\n",
       "      <td>107868139</td>\n",
       "      <td>1811564187</td>\n",
       "      <td>309263767948.718</td>\n",
       "      <td>51893800000.000</td>\n",
       "      <td>785229300000.000</td>\n",
       "      <td>11067.345</td>\n",
       "      <td>8036.950</td>\n",
       "      <td>13280.050</td>\n",
       "    </tr>\n",
       "  </tbody>\n",
       "</table>\n",
       "</div>"
      ],
      "text/plain": [
       "            Volume                                Turnover                  \\\n",
       "              mean        min         max             mean             min   \n",
       "Year                                                                         \n",
       "2000  45244467.028   14447058   107922822  21057677200.000  5116600000.000   \n",
       "2001  53882636.641    1394931   150441998  15014450000.000   401200000.000   \n",
       "2002  50630234.211   20401035   104258064  14480847808.765  5563100000.000   \n",
       "2003  91805504.898   19834836   233905141  22968947244.094  6329900000.000   \n",
       "2004 106598310.524   21421309   204439801  31959339370.079  4760900000.000   \n",
       "2005  70260452.697   18746555   137984563  27471997609.562  6657500000.000   \n",
       "2006  82008456.268   10531676   191025581  39892805600.000  4332900000.000   \n",
       "2007  98084045.273   21389583   301117809  53974475502.008 12213400000.000   \n",
       "2008 167597027.650   51206468   386314136  69730695934.959 10382400000.000   \n",
       "2009 281703338.395    2768292   686898999  85823680658.436  1139900000.000   \n",
       "2010 163992598.476   22091127   371673464  66065911904.762  6431100000.000   \n",
       "2011 143896341.142   27496887   317245759  59985426315.789 10594600000.000   \n",
       "2012 153069099.980    6555703   364660634  58856179681.275  2978900000.000   \n",
       "2013 165444272.228    7991165   437039204  63094241200.000  3557400000.000   \n",
       "2014 154763903.488    9774392   393156741  74012970491.803  3736600000.000   \n",
       "2015 167678446.698   22380435   418959074  80212116532.258 11234400000.000   \n",
       "2016 200794425.526   16610872   487969285  85551172064.777  8058900000.000   \n",
       "2017 204210548.270   31086379   612620774 102796230645.161 16851600000.000   \n",
       "2018 274693425.659   32194181   741153209 143867330894.309 15340800000.000   \n",
       "2019 483281915.596  159404542  1414837250 190171827346.939 35482100000.000   \n",
       "2020 671540589.261  107868139  1811564187 309263767948.718 51893800000.000   \n",
       "\n",
       "                           High                      \n",
       "                  max      mean       min       max  \n",
       "Year                                                 \n",
       "2000  37409500000.000  1440.324  1155.350  1818.150  \n",
       "2001  46158700000.000  1134.478   877.000  1422.950  \n",
       "2002  31288600000.000  1064.767   934.900  1205.950  \n",
       "2003  51006100000.000  1244.101   931.050  1914.400  \n",
       "2004  54092500000.000  1774.006  1474.300  2088.450  \n",
       "2005  73896200000.000  2286.715  1925.600  2857.000  \n",
       "2006 120555900000.000  3388.747  2767.750  4046.850  \n",
       "2007 154596800000.000  4616.731  3679.150  6185.400  \n",
       "2008 125890900000.000  4417.680  2585.300  6357.100  \n",
       "2009 260022600000.000  4161.107  2621.250  5221.850  \n",
       "2010 122284500000.000  5498.632  4768.150  6338.500  \n",
       "2011 117412500000.000  5384.035  4623.150  6181.050  \n",
       "2012 173567600000.000  5374.330  4645.950  5965.150  \n",
       "2013 129642000000.000  5954.561  5317.700  6415.250  \n",
       "2014 210570700000.000  7397.670  6017.800  8626.950  \n",
       "2015 328734500000.000  8337.654  7663.950  9119.200  \n",
       "2016 225342900000.000  8136.359  7034.200  8968.700  \n",
       "2017 259225100000.000  9625.885  8212.000 10552.400  \n",
       "2018 351311900000.000 10801.753 10027.700 11760.200  \n",
       "2019 540815300000.000 11494.463 10690.350 12293.900  \n",
       "2020 785229300000.000 11067.345  8036.950 13280.050  "
      ]
     },
     "execution_count": 111,
     "metadata": {},
     "output_type": "execute_result"
    }
   ],
   "source": [
    "piv=df.groupby('Year').agg({'Volume':['mean','min','max'],\n",
    "                       'Turnover':['mean','min','max'],\n",
    "                       'High':['mean','min','max']})\n",
    "piv"
   ]
  },
  {
   "cell_type": "code",
   "execution_count": 139,
   "metadata": {},
   "outputs": [],
   "source": [
    "#Converting to HTML\n",
    "# saving plot image to local file\n",
    "image_tag = \"\"\"<img src=\"C:\\\\Users\\\\v.bq.kumar\\\\Documents\\\\Tutor\\\\Mehak_Juneja\\\\Ipython_notebooks\\\\Projects\\\\Project_1\\\\output\\\\plot1.png\"> \n",
    "               <img src=\"C:\\\\Users\\\\v.bq.kumar\\\\Documents\\\\Tutor\\\\Mehak_Juneja\\\\Ipython_notebooks\\\\Projects\\\\Project_1\\\\output\\\\plot2.png\">\n",
    "               <img src=\"C:\\\\Users\\\\v.bq.kumar\\\\Documents\\\\Tutor\\\\Mehak_Juneja\\\\Ipython_notebooks\\\\Projects\\\\Project_1\\\\output\\\\plot3.png\">\n",
    "               <img src=\"C:\\\\Users\\\\v.bq.kumar\\\\Documents\\\\Tutor\\\\Mehak_Juneja\\\\Ipython_notebooks\\\\Projects\\\\Project_1\\\\output\\\\plot4.png\">\n",
    "               <img src=\"C:\\\\Users\\\\v.bq.kumar\\\\Documents\\\\Tutor\\\\Mehak_Juneja\\\\Ipython_notebooks\\\\Projects\\\\Project_1\\\\output\\\\plot5.png\">\n",
    "        \n",
    "        \"\"\"\n",
    "#writing HTML Content\n",
    "heading = '<h1> Automated Report Tutorial by Mehak Juneja </h1>'\n",
    "subheading = '<h3> Sample Report for Daily Analysis ( nifty 50 ) </h3>'\n",
    "# Using .now() from datetime library to add Time stamp\n",
    "now = datetime.now()\n",
    "current_time = now.strftime(\"%m/%d/%Y %H:%M:%S\")\n",
    "header = '<div class=\"top\">' + heading + subheading +'</div>'\n",
    "footer = '<div class=\"bottom\"> <h3> This Report has been Generated on '+ current_time +'</h3> </div>'\n",
    "content = '<div class=\"table\"> '+piv.to_html()+' </div> <div class=\"chart\"> '+ image_tag +'</div>'\n",
    "css = '<style> body {\\n text-align:center; \\n}\\n table{\\n margin:0px auto;\\n}</style>'\n",
    "# Concating everything to a single string\n",
    "html = header + content + footer\n",
    "html=html+css"
   ]
  },
  {
   "cell_type": "code",
   "execution_count": 140,
   "metadata": {},
   "outputs": [],
   "source": [
    "# Writing the file\n",
    "with open(r'output/report.html','w+') as file:\n",
    "    file.write(html)"
   ]
  },
  {
   "cell_type": "code",
   "execution_count": null,
   "metadata": {},
   "outputs": [],
   "source": []
  },
  {
   "cell_type": "code",
   "execution_count": null,
   "metadata": {},
   "outputs": [],
   "source": []
  },
  {
   "cell_type": "code",
   "execution_count": null,
   "metadata": {},
   "outputs": [],
   "source": []
  }
 ],
 "metadata": {
  "kernelspec": {
   "display_name": "Python 3",
   "language": "python",
   "name": "python3"
  },
  "language_info": {
   "codemirror_mode": {
    "name": "ipython",
    "version": 3
   },
   "file_extension": ".py",
   "mimetype": "text/x-python",
   "name": "python",
   "nbconvert_exporter": "python",
   "pygments_lexer": "ipython3",
   "version": "3.7.3"
  }
 },
 "nbformat": 4,
 "nbformat_minor": 2
}
